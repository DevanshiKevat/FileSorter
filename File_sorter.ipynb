{
 "cells": [
  {
   "cell_type": "markdown",
   "id": "149137c0-82b0-40f6-a3cb-d67083edc054",
   "metadata": {},
   "source": [
    "# Automatic file sorter in File explorer"
   ]
  },
  {
   "cell_type": "code",
   "execution_count": 2,
   "id": "9bfe943d-e2e5-45e9-af18-a04fdb646e5f",
   "metadata": {},
   "outputs": [],
   "source": [
    "import os, shutil"
   ]
  },
  {
   "cell_type": "code",
   "execution_count": 1,
   "id": "0ac730ab-3138-4ecb-ab53-a549696c6b36",
   "metadata": {},
   "outputs": [],
   "source": [
    "path = r\"C:/Users/devan/OneDrive/Desktop/MCA/Placement/\""
   ]
  },
  {
   "cell_type": "code",
   "execution_count": 5,
   "id": "fd874304-5824-44d3-8755-1a582a2ed9f9",
   "metadata": {},
   "outputs": [],
   "source": [
    "file_names = os.listdir(path)"
   ]
  },
  {
   "cell_type": "code",
   "execution_count": 3,
   "id": "05d14ca5-cf0a-43ba-886f-e96e47c4e60b",
   "metadata": {},
   "outputs": [],
   "source": [
    "folder_names = ['sql files','ipynb files']\n",
    "\n",
    "for loop in range(len(folder_names)):\n",
    "    if not os.path.exists(path + folder_names[loop]):\n",
    "        #print(path + folder_names[loop])\n",
    "        os.makedirs(path + folder_names[loop])"
   ]
  },
  {
   "cell_type": "code",
   "execution_count": 6,
   "id": "f0bb3d36-9e06-48b6-8e26-224f71886dc0",
   "metadata": {},
   "outputs": [],
   "source": [
    "for file in file_names:\n",
    "    #if \".csv\" in file and not os.path.exists(path + \"csv files/\" + file):\n",
    "        #shutil.move(path + file , path + \"xlsx files/\" + file)\n",
    "\n",
    "    if \".sql\" in file and not os.path.exists(path + \"sql files/\" + file):\n",
    "        shutil.move(path + file , path + \"sql files/\" + file)\n",
    "        \n",
    "    #if \".json\" in file and not os.path.exists(path + \"json files/\" + file):\n",
    "        #shutil.move(path + file , path + \"json files/\" + file)\n",
    "        \n",
    "    if \".ipynb\" in file and not os.path.exists(path + \"ipynb files/\" + file):\n",
    "        shutil.move(path + file , path + \"ipynb files/\" + file)\n",
    "\n"
   ]
  },
  {
   "cell_type": "code",
   "execution_count": null,
   "id": "db14c85a-4bd6-4759-aacb-0ef188104cea",
   "metadata": {},
   "outputs": [],
   "source": []
  }
 ],
 "metadata": {
  "kernelspec": {
   "display_name": "Python 3 (ipykernel)",
   "language": "python",
   "name": "python3"
  },
  "language_info": {
   "codemirror_mode": {
    "name": "ipython",
    "version": 3
   },
   "file_extension": ".py",
   "mimetype": "text/x-python",
   "name": "python",
   "nbconvert_exporter": "python",
   "pygments_lexer": "ipython3",
   "version": "3.11.5"
  }
 },
 "nbformat": 4,
 "nbformat_minor": 5
}
